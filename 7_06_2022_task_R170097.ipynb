{
  "nbformat": 4,
  "nbformat_minor": 0,
  "metadata": {
    "colab": {
      "name": "7-06-2022 task-R170097.ipynb",
      "provenance": [],
      "authorship_tag": "ABX9TyOb3IdGwdRP6B0PjUn7NiXE",
      "include_colab_link": true
    },
    "kernelspec": {
      "name": "python3",
      "display_name": "Python 3"
    },
    "language_info": {
      "name": "python"
    }
  },
  "cells": [
    {
      "cell_type": "markdown",
      "metadata": {
        "id": "view-in-github",
        "colab_type": "text"
      },
      "source": [
        "<a href=\"https://colab.research.google.com/github/Prasuna-G/CSEP-prasuna/blob/main/7_06_2022_task_R170097.ipynb\" target=\"_parent\"><img src=\"https://colab.research.google.com/assets/colab-badge.svg\" alt=\"Open In Colab\"/></a>"
      ]
    },
    {
      "cell_type": "markdown",
      "source": [
        "Write a program to find whether the given strings are anagrams or not\n"
      ],
      "metadata": {
        "id": "0l4Hzw7UkVZz"
      }
    },
    {
      "cell_type": "code",
      "source": [
        "s1=str(input(\"enter the string 1\"))\n",
        "s2 =str(input(\"enter the string 2\"))\n",
        "s3=sorted(s1)\n",
        "s4=sorted(s2)\n",
        "if s3==s4:\n",
        "  print(\"the given strings are anagrams\")\n",
        "else:\n",
        "  print(\"the given strings are not anagrams\")"
      ],
      "metadata": {
        "colab": {
          "base_uri": "https://localhost:8080/"
        },
        "id": "CQYE0hUMkVAd",
        "outputId": "63164fa2-6615-49bd-dba0-f583fa9694bc"
      },
      "execution_count": null,
      "outputs": [
        {
          "output_type": "stream",
          "name": "stdout",
          "text": [
            "enter the string 1mom\n",
            "enter the string 2ror\n",
            "the given strings are not anagrams\n"
          ]
        }
      ]
    },
    {
      "cell_type": "markdown",
      "source": [
        "Write a program to find the compound interest using recursive functions"
      ],
      "metadata": {
        "id": "SocaRgMDnO2p"
      }
    },
    {
      "cell_type": "code",
      "source": [
        "def CompoundInterest(P,N,R):\n",
        "    P=P+(P*R/100)\n",
        "    N=N-1\n",
        "    if N!=0 :\n",
        "      P=CompoundInterest(P,N,R)\n",
        "    return P\n",
        "P=int(input(\"enter the principle amount\"))\n",
        "N=int(input(\"enter the number of years\"))\n",
        "R=int(input(\"enter the rate of interest\"))\n",
        "A=CompoundInterest(P,N,R)\n",
        "print(\"THE AMOUNT PAID AS INTEREST BY THE BEARER IS \",A-P)"
      ],
      "metadata": {
        "colab": {
          "base_uri": "https://localhost:8080/"
        },
        "id": "P9kRGsDQnN2N",
        "outputId": "6e74f71a-6873-4fab-9951-6534a3dbd5c7"
      },
      "execution_count": null,
      "outputs": [
        {
          "output_type": "stream",
          "name": "stdout",
          "text": [
            "enter the principle amount10000\n",
            "enter the number of years20\n",
            "enter the rate of interest30\n",
            "THE AMOUNT PAID AS INTEREST BY THE BEARER IS  1890496.37748808\n"
          ]
        }
      ]
    },
    {
      "cell_type": "markdown",
      "source": [
        "Write a program to calculate the factorial of a given number using recursive functions"
      ],
      "metadata": {
        "id": "N3XHZYkurYyu"
      }
    },
    {
      "cell_type": "code",
      "source": [
        "def factorial(n):\n",
        "  fact=1\n",
        "  if n!=0:\n",
        "    fact=n * factorial(n-1)\n",
        "  else :\n",
        "    return 1\n",
        "  return fact\n",
        "n= int(input(\"enter the number\"))\n",
        "fact1=factorial(n)\n",
        "print(\"the factorial of the given number is\",fact1)"
      ],
      "metadata": {
        "colab": {
          "base_uri": "https://localhost:8080/"
        },
        "id": "GqqiRXbYrZkp",
        "outputId": "1fff8618-5794-4ea5-a139-7be08de6d184"
      },
      "execution_count": null,
      "outputs": [
        {
          "output_type": "stream",
          "name": "stdout",
          "text": [
            "enter the number5\n",
            "the factorial of the given number is 120\n"
          ]
        }
      ]
    },
    {
      "cell_type": "markdown",
      "source": [
        "Write a program to find a number using binary search  and recursive functions"
      ],
      "metadata": {
        "id": "OT2Y8fJpx8uA"
      }
    },
    {
      "cell_type": "code",
      "source": [
        "def BinarySearch(low,high,element,a2):\n",
        "  mid=int(high+low)//2\n",
        "  if a2[mid]!=element:\n",
        "    if element>a2[mid]:\n",
        "      low=mid\n",
        "      mid=BinarySearch(low,high,element,a2)\n",
        "    elif element<a2[mid]:\n",
        "      high=mid\n",
        "      mid=BinarySearch(low,mid,element,a2)\n",
        "  elif a2[mid]==element :\n",
        "    return mid\n",
        "    return True\n",
        "  else: \n",
        "    return False\n",
        "\n",
        "\n",
        "a2=[]\n",
        "n=int(input(\"enter the length of the list\"))\n",
        "for i in range(n):\n",
        "  a[i]=a.append(int(input(\"enter the element\")))\n",
        "element=int(input(\"enter the element to be find\"))\n",
        "low=0\n",
        "high=n-1\n",
        "index=BinarySearch(low,high,element,a2)\n",
        "if index == True:\n",
        "  print(\"the given element is found in the list\")\n",
        "else:\n",
        "  print(\"the given element is not found in the list\")\n"
      ],
      "metadata": {
        "colab": {
          "base_uri": "https://localhost:8080/",
          "height": 497
        },
        "id": "oV8grxdbx9jo",
        "outputId": "2a715ea7-75a1-47c2-eb05-76b3b6771802"
      },
      "execution_count": null,
      "outputs": [
        {
          "name": "stdout",
          "output_type": "stream",
          "text": [
            "enter the length of the list6\n",
            "enter the element1\n",
            "enter the element2\n",
            "enter the element3\n",
            "enter the element4\n",
            "enter the element5\n",
            "enter the element6\n",
            "enter the element to be find2\n"
          ]
        },
        {
          "output_type": "error",
          "ename": "IndexError",
          "evalue": "ignored",
          "traceback": [
            "\u001b[0;31m---------------------------------------------------------------------------\u001b[0m",
            "\u001b[0;31mIndexError\u001b[0m                                Traceback (most recent call last)",
            "\u001b[0;32m<ipython-input-15-1abcbd538e2a>\u001b[0m in \u001b[0;36m<module>\u001b[0;34m()\u001b[0m\n\u001b[1;32m     22\u001b[0m \u001b[0mlow\u001b[0m\u001b[0;34m=\u001b[0m\u001b[0;36m0\u001b[0m\u001b[0;34m\u001b[0m\u001b[0;34m\u001b[0m\u001b[0m\n\u001b[1;32m     23\u001b[0m \u001b[0mhigh\u001b[0m\u001b[0;34m=\u001b[0m\u001b[0mn\u001b[0m\u001b[0;34m-\u001b[0m\u001b[0;36m1\u001b[0m\u001b[0;34m\u001b[0m\u001b[0;34m\u001b[0m\u001b[0m\n\u001b[0;32m---> 24\u001b[0;31m \u001b[0mindex\u001b[0m\u001b[0;34m=\u001b[0m\u001b[0mBinarySearch\u001b[0m\u001b[0;34m(\u001b[0m\u001b[0mlow\u001b[0m\u001b[0;34m,\u001b[0m\u001b[0mhigh\u001b[0m\u001b[0;34m,\u001b[0m\u001b[0melement\u001b[0m\u001b[0;34m,\u001b[0m\u001b[0ma2\u001b[0m\u001b[0;34m)\u001b[0m\u001b[0;34m\u001b[0m\u001b[0;34m\u001b[0m\u001b[0m\n\u001b[0m\u001b[1;32m     25\u001b[0m \u001b[0;32mif\u001b[0m \u001b[0mindex\u001b[0m \u001b[0;34m==\u001b[0m \u001b[0;32mTrue\u001b[0m\u001b[0;34m:\u001b[0m\u001b[0;34m\u001b[0m\u001b[0;34m\u001b[0m\u001b[0m\n\u001b[1;32m     26\u001b[0m   \u001b[0mprint\u001b[0m\u001b[0;34m(\u001b[0m\u001b[0;34m\"the given element is found in the list\"\u001b[0m\u001b[0;34m)\u001b[0m\u001b[0;34m\u001b[0m\u001b[0;34m\u001b[0m\u001b[0m\n",
            "\u001b[0;32m<ipython-input-15-1abcbd538e2a>\u001b[0m in \u001b[0;36mBinarySearch\u001b[0;34m(low, high, element, a2)\u001b[0m\n\u001b[1;32m      1\u001b[0m \u001b[0;32mdef\u001b[0m \u001b[0mBinarySearch\u001b[0m\u001b[0;34m(\u001b[0m\u001b[0mlow\u001b[0m\u001b[0;34m,\u001b[0m\u001b[0mhigh\u001b[0m\u001b[0;34m,\u001b[0m\u001b[0melement\u001b[0m\u001b[0;34m,\u001b[0m\u001b[0ma2\u001b[0m\u001b[0;34m)\u001b[0m\u001b[0;34m:\u001b[0m\u001b[0;34m\u001b[0m\u001b[0;34m\u001b[0m\u001b[0m\n\u001b[1;32m      2\u001b[0m   \u001b[0mmid\u001b[0m\u001b[0;34m=\u001b[0m\u001b[0mint\u001b[0m\u001b[0;34m(\u001b[0m\u001b[0mhigh\u001b[0m\u001b[0;34m+\u001b[0m\u001b[0mlow\u001b[0m\u001b[0;34m)\u001b[0m\u001b[0;34m//\u001b[0m\u001b[0;36m2\u001b[0m\u001b[0;34m\u001b[0m\u001b[0;34m\u001b[0m\u001b[0m\n\u001b[0;32m----> 3\u001b[0;31m   \u001b[0;32mif\u001b[0m \u001b[0ma2\u001b[0m\u001b[0;34m[\u001b[0m\u001b[0mmid\u001b[0m\u001b[0;34m]\u001b[0m\u001b[0;34m!=\u001b[0m\u001b[0melement\u001b[0m\u001b[0;34m:\u001b[0m\u001b[0;34m\u001b[0m\u001b[0;34m\u001b[0m\u001b[0m\n\u001b[0m\u001b[1;32m      4\u001b[0m     \u001b[0;32mif\u001b[0m \u001b[0melement\u001b[0m\u001b[0;34m>\u001b[0m\u001b[0ma2\u001b[0m\u001b[0;34m[\u001b[0m\u001b[0mmid\u001b[0m\u001b[0;34m]\u001b[0m\u001b[0;34m:\u001b[0m\u001b[0;34m\u001b[0m\u001b[0;34m\u001b[0m\u001b[0m\n\u001b[1;32m      5\u001b[0m       \u001b[0mlow\u001b[0m\u001b[0;34m=\u001b[0m\u001b[0mmid\u001b[0m\u001b[0;34m\u001b[0m\u001b[0;34m\u001b[0m\u001b[0m\n",
            "\u001b[0;31mIndexError\u001b[0m: list index out of range"
          ]
        }
      ]
    }
  ]
}